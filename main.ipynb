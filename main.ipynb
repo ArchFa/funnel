{
 "cells": [
  {
   "cell_type": "code",
   "execution_count": 1,
   "metadata": {},
   "outputs": [],
   "source": [
    "import streamlit as st\n",
    "from collections import Counter\n",
    "from PIL import Image\n",
    "import numpy as np\n",
    "import pandas as pd\n",
    "import json\n",
    "import requests as r\n",
    "import time\n",
    "from datetime import datetime"
   ]
  },
  {
   "cell_type": "code",
   "execution_count": 2,
   "metadata": {},
   "outputs": [
    {
     "name": "stderr",
     "output_type": "stream",
     "text": [
      "2022-05-16 13:57:59.695 \n",
      "  \u001b[33m\u001b[1mWarning:\u001b[0m to view this Streamlit app on a browser, run it with the following\n",
      "  command:\n",
      "\n",
      "    streamlit run /Users/arturfattahov/Library/Python/3.10/lib/python/site-packages/ipykernel_launcher.py [ARGUMENTS]\n"
     ]
    }
   ],
   "source": [
    "# выбор даты начала\n",
    "\n",
    "start_day = st.date_input(\n",
    "     \"Дата начала\",)\n",
    "st.write('Воронка с', start_day, 'числа')"
   ]
  },
  {
   "cell_type": "code",
   "execution_count": 3,
   "metadata": {},
   "outputs": [],
   "source": [
    "# выбор даты конца\n",
    "\n",
    "end_day = st.date_input(\n",
    "     \"Дата конца\",)\n",
    "st.write('Воронка до', end_day, 'числа')"
   ]
  },
  {
   "cell_type": "code",
   "execution_count": 4,
   "metadata": {},
   "outputs": [],
   "source": [
    "# загрузка событий из AppMetrica\n",
    "\n",
    "# but = st.button(\"Загрузить данные\")\n",
    "\n",
    "# if but:\n",
    "#     while True:\n",
    "#         header={\n",
    "#             'Content-Type': 'application/x-yametrika+json',\n",
    "#             'Authorization': 'OAuth AQAEA7qjKZXKAAfhX_j1dIIUR059lNONgVpbkWk'\n",
    "#         }\n",
    "#         metrika_url = f'https://api.appmetrica.yandex.ru/logs/v1/export/events.json?application_id=4065523&date_since={start_day}%2000%3A00%3A00&date_until={end_day}%2023%3A59%3A59&date_dimension=default&use_utf8_bom=true&fields=appmetrica_device_id%2Ccity%2Cevent_name'\n",
    "\n",
    "#         #st.spinner('Wait for it...')\n",
    "\n",
    "#         res = r.get(metrika_url, headers=header)\n",
    "#         if res.status_code == 200:\n",
    "#             items = json.loads(res.text.lstrip('\\ufeff'))\n",
    "#             df = pd.DataFrame.from_dict(items['data'])\n",
    "#             st.write(df)\n",
    "#             break\n",
    "#         time.sleep(300)"
   ]
  },
  {
   "cell_type": "code",
   "execution_count": 2,
   "metadata": {},
   "outputs": [],
   "source": [
    "df = pd.read_csv('events (3).csv')"
   ]
  },
  {
   "cell_type": "code",
   "execution_count": 3,
   "metadata": {},
   "outputs": [],
   "source": [
    "df['event_datetime'] = pd.to_datetime(df['event_datetime'], format='%Y-%m-%d %H:%M:%S')\n",
    "df = df.sort_values(by=['appmetrica_device_id', 'event_datetime'])"
   ]
  },
  {
   "cell_type": "code",
   "execution_count": 4,
   "metadata": {},
   "outputs": [],
   "source": [
    "df['diff'] = df.groupby('appmetrica_device_id')['event_datetime'].diff(1)"
   ]
  },
  {
   "cell_type": "code",
   "execution_count": 5,
   "metadata": {},
   "outputs": [
    {
     "data": {
      "text/html": [
       "<div>\n",
       "<style scoped>\n",
       "    .dataframe tbody tr th:only-of-type {\n",
       "        vertical-align: middle;\n",
       "    }\n",
       "\n",
       "    .dataframe tbody tr th {\n",
       "        vertical-align: top;\n",
       "    }\n",
       "\n",
       "    .dataframe thead th {\n",
       "        text-align: right;\n",
       "    }\n",
       "</style>\n",
       "<table border=\"1\" class=\"dataframe\">\n",
       "  <thead>\n",
       "    <tr style=\"text-align: right;\">\n",
       "      <th></th>\n",
       "      <th>appmetrica_device_id</th>\n",
       "      <th>event_name</th>\n",
       "      <th>event_datetime</th>\n",
       "      <th>diff</th>\n",
       "    </tr>\n",
       "  </thead>\n",
       "  <tbody>\n",
       "    <tr>\n",
       "      <th>7531</th>\n",
       "      <td>14515923324850227</td>\n",
       "      <td>all_tasks_list_screen</td>\n",
       "      <td>2022-05-04 18:47:55</td>\n",
       "      <td>NaT</td>\n",
       "    </tr>\n",
       "    <tr>\n",
       "      <th>7562</th>\n",
       "      <td>14515923324850227</td>\n",
       "      <td>registration_screen</td>\n",
       "      <td>2022-05-04 18:47:57</td>\n",
       "      <td>0 days 00:00:02</td>\n",
       "    </tr>\n",
       "    <tr>\n",
       "      <th>7567</th>\n",
       "      <td>14515923324850227</td>\n",
       "      <td>signup_button_click</td>\n",
       "      <td>2022-05-04 18:48:07</td>\n",
       "      <td>0 days 00:00:10</td>\n",
       "    </tr>\n",
       "    <tr>\n",
       "      <th>7536</th>\n",
       "      <td>14515923324850227</td>\n",
       "      <td>check_sms_code_screen</td>\n",
       "      <td>2022-05-04 18:48:08</td>\n",
       "      <td>0 days 00:00:01</td>\n",
       "    </tr>\n",
       "    <tr>\n",
       "      <th>7532</th>\n",
       "      <td>14515923324850227</td>\n",
       "      <td>all_tasks_list_screen</td>\n",
       "      <td>2022-05-04 18:48:55</td>\n",
       "      <td>0 days 00:00:47</td>\n",
       "    </tr>\n",
       "    <tr>\n",
       "      <th>7544</th>\n",
       "      <td>14515923324850227</td>\n",
       "      <td>go_to_task_from_the_list</td>\n",
       "      <td>2022-05-04 18:49:06</td>\n",
       "      <td>0 days 00:00:11</td>\n",
       "    </tr>\n",
       "    <tr>\n",
       "      <th>7568</th>\n",
       "      <td>14515923324850227</td>\n",
       "      <td>task_card_screen</td>\n",
       "      <td>2022-05-04 18:49:06</td>\n",
       "      <td>0 days 00:00:00</td>\n",
       "    </tr>\n",
       "    <tr>\n",
       "      <th>7537</th>\n",
       "      <td>14515923324850227</td>\n",
       "      <td>click_respond_task_screen</td>\n",
       "      <td>2022-05-04 18:49:09</td>\n",
       "      <td>0 days 00:00:03</td>\n",
       "    </tr>\n",
       "    <tr>\n",
       "      <th>7545</th>\n",
       "      <td>14515923324850227</td>\n",
       "      <td>go_to_task_from_the_list</td>\n",
       "      <td>2022-05-04 18:49:38</td>\n",
       "      <td>0 days 00:00:29</td>\n",
       "    </tr>\n",
       "    <tr>\n",
       "      <th>7569</th>\n",
       "      <td>14515923324850227</td>\n",
       "      <td>task_card_screen</td>\n",
       "      <td>2022-05-04 18:49:38</td>\n",
       "      <td>0 days 00:00:00</td>\n",
       "    </tr>\n",
       "    <tr>\n",
       "      <th>7546</th>\n",
       "      <td>14515923324850227</td>\n",
       "      <td>go_to_task_from_the_list</td>\n",
       "      <td>2022-05-04 18:49:52</td>\n",
       "      <td>0 days 00:00:14</td>\n",
       "    </tr>\n",
       "    <tr>\n",
       "      <th>7570</th>\n",
       "      <td>14515923324850227</td>\n",
       "      <td>task_card_screen</td>\n",
       "      <td>2022-05-04 18:49:52</td>\n",
       "      <td>0 days 00:00:00</td>\n",
       "    </tr>\n",
       "    <tr>\n",
       "      <th>7538</th>\n",
       "      <td>14515923324850227</td>\n",
       "      <td>click_respond_task_screen</td>\n",
       "      <td>2022-05-04 18:49:54</td>\n",
       "      <td>0 days 00:00:02</td>\n",
       "    </tr>\n",
       "    <tr>\n",
       "      <th>9023</th>\n",
       "      <td>199154579309413360</td>\n",
       "      <td>all_tasks_list_screen</td>\n",
       "      <td>2022-05-04 07:01:59</td>\n",
       "      <td>NaT</td>\n",
       "    </tr>\n",
       "    <tr>\n",
       "      <th>9031</th>\n",
       "      <td>199154579309413360</td>\n",
       "      <td>task_card_screen</td>\n",
       "      <td>2022-05-04 10:48:08</td>\n",
       "      <td>0 days 03:46:09</td>\n",
       "    </tr>\n",
       "    <tr>\n",
       "      <th>5923</th>\n",
       "      <td>199154579309413360</td>\n",
       "      <td>task_card_screen</td>\n",
       "      <td>2022-05-04 18:34:24</td>\n",
       "      <td>0 days 07:46:16</td>\n",
       "    </tr>\n",
       "    <tr>\n",
       "      <th>3275</th>\n",
       "      <td>202987147747599767</td>\n",
       "      <td>registration_screen</td>\n",
       "      <td>2022-05-04 13:52:17</td>\n",
       "      <td>NaT</td>\n",
       "    </tr>\n",
       "    <tr>\n",
       "      <th>3284</th>\n",
       "      <td>202987147747599767</td>\n",
       "      <td>signup_button_click</td>\n",
       "      <td>2022-05-04 14:07:42</td>\n",
       "      <td>0 days 00:15:25</td>\n",
       "    </tr>\n",
       "    <tr>\n",
       "      <th>3241</th>\n",
       "      <td>202987147747599767</td>\n",
       "      <td>check_sms_code_screen</td>\n",
       "      <td>2022-05-04 14:07:43</td>\n",
       "      <td>0 days 00:00:01</td>\n",
       "    </tr>\n",
       "    <tr>\n",
       "      <th>3269</th>\n",
       "      <td>202987147747599767</td>\n",
       "      <td>name_input</td>\n",
       "      <td>2022-05-04 14:07:49</td>\n",
       "      <td>0 days 00:00:06</td>\n",
       "    </tr>\n",
       "  </tbody>\n",
       "</table>\n",
       "</div>"
      ],
      "text/plain": [
       "      appmetrica_device_id                 event_name      event_datetime  \\\n",
       "7531     14515923324850227      all_tasks_list_screen 2022-05-04 18:47:55   \n",
       "7562     14515923324850227        registration_screen 2022-05-04 18:47:57   \n",
       "7567     14515923324850227        signup_button_click 2022-05-04 18:48:07   \n",
       "7536     14515923324850227      check_sms_code_screen 2022-05-04 18:48:08   \n",
       "7532     14515923324850227      all_tasks_list_screen 2022-05-04 18:48:55   \n",
       "7544     14515923324850227   go_to_task_from_the_list 2022-05-04 18:49:06   \n",
       "7568     14515923324850227           task_card_screen 2022-05-04 18:49:06   \n",
       "7537     14515923324850227  click_respond_task_screen 2022-05-04 18:49:09   \n",
       "7545     14515923324850227   go_to_task_from_the_list 2022-05-04 18:49:38   \n",
       "7569     14515923324850227           task_card_screen 2022-05-04 18:49:38   \n",
       "7546     14515923324850227   go_to_task_from_the_list 2022-05-04 18:49:52   \n",
       "7570     14515923324850227           task_card_screen 2022-05-04 18:49:52   \n",
       "7538     14515923324850227  click_respond_task_screen 2022-05-04 18:49:54   \n",
       "9023    199154579309413360      all_tasks_list_screen 2022-05-04 07:01:59   \n",
       "9031    199154579309413360           task_card_screen 2022-05-04 10:48:08   \n",
       "5923    199154579309413360           task_card_screen 2022-05-04 18:34:24   \n",
       "3275    202987147747599767        registration_screen 2022-05-04 13:52:17   \n",
       "3284    202987147747599767        signup_button_click 2022-05-04 14:07:42   \n",
       "3241    202987147747599767      check_sms_code_screen 2022-05-04 14:07:43   \n",
       "3269    202987147747599767                 name_input 2022-05-04 14:07:49   \n",
       "\n",
       "                diff  \n",
       "7531             NaT  \n",
       "7562 0 days 00:00:02  \n",
       "7567 0 days 00:00:10  \n",
       "7536 0 days 00:00:01  \n",
       "7532 0 days 00:00:47  \n",
       "7544 0 days 00:00:11  \n",
       "7568 0 days 00:00:00  \n",
       "7537 0 days 00:00:03  \n",
       "7545 0 days 00:00:29  \n",
       "7569 0 days 00:00:00  \n",
       "7546 0 days 00:00:14  \n",
       "7570 0 days 00:00:00  \n",
       "7538 0 days 00:00:02  \n",
       "9023             NaT  \n",
       "9031 0 days 03:46:09  \n",
       "5923 0 days 07:46:16  \n",
       "3275             NaT  \n",
       "3284 0 days 00:15:25  \n",
       "3241 0 days 00:00:01  \n",
       "3269 0 days 00:00:06  "
      ]
     },
     "execution_count": 5,
     "metadata": {},
     "output_type": "execute_result"
    }
   ],
   "source": [
    "df.head(20)"
   ]
  },
  {
   "cell_type": "code",
   "execution_count": 6,
   "metadata": {},
   "outputs": [
    {
     "data": {
      "text/plain": [
       "185"
      ]
     },
     "execution_count": 6,
     "metadata": {},
     "output_type": "execute_result"
    }
   ],
   "source": [
    "df.query('event_name == \"registration_screen\"').count()[0]"
   ]
  },
  {
   "cell_type": "code",
   "execution_count": 7,
   "metadata": {},
   "outputs": [],
   "source": [
    "df = df.groupby('appmetrica_device_id')['event_name'].apply(list).to_frame().reset_index()"
   ]
  },
  {
   "cell_type": "code",
   "execution_count": 8,
   "metadata": {},
   "outputs": [
    {
     "data": {
      "text/html": [
       "<div>\n",
       "<style scoped>\n",
       "    .dataframe tbody tr th:only-of-type {\n",
       "        vertical-align: middle;\n",
       "    }\n",
       "\n",
       "    .dataframe tbody tr th {\n",
       "        vertical-align: top;\n",
       "    }\n",
       "\n",
       "    .dataframe thead th {\n",
       "        text-align: right;\n",
       "    }\n",
       "</style>\n",
       "<table border=\"1\" class=\"dataframe\">\n",
       "  <thead>\n",
       "    <tr style=\"text-align: right;\">\n",
       "      <th></th>\n",
       "      <th>appmetrica_device_id</th>\n",
       "      <th>event_name</th>\n",
       "    </tr>\n",
       "  </thead>\n",
       "  <tbody>\n",
       "    <tr>\n",
       "      <th>0</th>\n",
       "      <td>14515923324850227</td>\n",
       "      <td>[all_tasks_list_screen, registration_screen, s...</td>\n",
       "    </tr>\n",
       "    <tr>\n",
       "      <th>1</th>\n",
       "      <td>199154579309413360</td>\n",
       "      <td>[all_tasks_list_screen, task_card_screen, task...</td>\n",
       "    </tr>\n",
       "    <tr>\n",
       "      <th>2</th>\n",
       "      <td>202987147747599767</td>\n",
       "      <td>[registration_screen, signup_button_click, che...</td>\n",
       "    </tr>\n",
       "    <tr>\n",
       "      <th>3</th>\n",
       "      <td>282293181952709685</td>\n",
       "      <td>[client_tasks_screen, clk_my_tasks_butt, my_ta...</td>\n",
       "    </tr>\n",
       "    <tr>\n",
       "      <th>4</th>\n",
       "      <td>295551228895410848</td>\n",
       "      <td>[all_tasks_list_screen, go_to_task_from_the_li...</td>\n",
       "    </tr>\n",
       "  </tbody>\n",
       "</table>\n",
       "</div>"
      ],
      "text/plain": [
       "   appmetrica_device_id                                         event_name\n",
       "0     14515923324850227  [all_tasks_list_screen, registration_screen, s...\n",
       "1    199154579309413360  [all_tasks_list_screen, task_card_screen, task...\n",
       "2    202987147747599767  [registration_screen, signup_button_click, che...\n",
       "3    282293181952709685  [client_tasks_screen, clk_my_tasks_butt, my_ta...\n",
       "4    295551228895410848  [all_tasks_list_screen, go_to_task_from_the_li..."
      ]
     },
     "execution_count": 8,
     "metadata": {},
     "output_type": "execute_result"
    }
   ],
   "source": [
    "df.head()"
   ]
  },
  {
   "cell_type": "code",
   "execution_count": 9,
   "metadata": {},
   "outputs": [
    {
     "name": "stdout",
     "output_type": "stream",
     "text": [
      "['all_tasks_list_screen', 'registration_screen', 'signup_button_click', 'check_sms_code_screen', 'all_tasks_list_screen', 'go_to_task_from_the_list', 'task_card_screen', 'click_respond_task_screen', 'go_to_task_from_the_list', 'task_card_screen', 'go_to_task_from_the_list', 'task_card_screen', 'click_respond_task_screen']\n"
     ]
    }
   ],
   "source": [
    "print(df['event_name'][0])"
   ]
  },
  {
   "cell_type": "code",
   "execution_count": 10,
   "metadata": {},
   "outputs": [
    {
     "name": "stderr",
     "output_type": "stream",
     "text": [
      "2022-05-16 16:42:19.662 \n",
      "  \u001b[33m\u001b[1mWarning:\u001b[0m to view this Streamlit app on a browser, run it with the following\n",
      "  command:\n",
      "\n",
      "    streamlit run /Users/arturfattahov/Library/Python/3.10/lib/python/site-packages/ipykernel_launcher.py [ARGUMENTS]\n"
     ]
    }
   ],
   "source": [
    "st.write(\"# Шаги воронки\")\n",
    "\n",
    "first_step = st.multiselect('What are your favorite colors', \n",
    "['Green', 'registration_screen', 'Red', 'Blue'], \n",
    "['registration_screen'])\n",
    "\n",
    "\n",
    "second_step = st.multiselect('What are your favorite colors', \n",
    "['Green', 'in_app_communication', 'by_phone_communication', 'Blue'], \n",
    "['in_app_communication', 'by_phone_communication'])\n",
    "\n",
    "\n",
    "third_step = st.multiselect('What are your favorite colors', \n",
    "['Green', 'Yellow', 'Red', 'create_choos_communication_type'], \n",
    "['create_choos_communication_type'])\n",
    "\n",
    "\n",
    "fourth_step = st.multiselect('What are your favorite colors', ['fg'])\n",
    "\n",
    "\n",
    "\n",
    "\n",
    "\n",
    "\n",
    "# fifth_step = st.multiselect('What are your favorite colors', ['Green', 'Yellow', 'Red', 'Blue'], ['Yellow', 'Red'])\n",
    "# sixth_step = st.multiselect('Выберите событие для шестого шага',df.event_name.unique().tolist())\n",
    "# seventh_step = st.multiselect('Выберите событие для седьмого шага',df.event_name.unique().tolist())\n"
   ]
  },
  {
   "cell_type": "code",
   "execution_count": 11,
   "metadata": {},
   "outputs": [],
   "source": [
    "# st.write(\"# Шаги воронки\")\n",
    "\n",
    "# first_step = st.multiselect('Выберите событие для первого шага',df.event_name.unique().tolist())\n",
    "# second_step = st.multiselect('Выберите событие для второго шага',df.event_name.unique().tolist())\n",
    "# third_step = st.multiselect('Выберите событие для третьего шага',df.event_name.unique().tolist())\n",
    "# fourth_step = st.multiselect('Выберите событие для четвертого шага',df.event_name.unique().tolist())\n",
    "# fifth_step = st.multiselect('Выберите событие для пятого шага',df.event_name.unique().tolist())\n",
    "# sixth_step = st.multiselect('Выберите событие для шестого шага',df.event_name.unique().tolist())\n",
    "# seventh_step = st.multiselect('Выберите событие для седьмого шага',df.event_name.unique().tolist())\n"
   ]
  },
  {
   "cell_type": "code",
   "execution_count": 12,
   "metadata": {},
   "outputs": [],
   "source": [
    "steps = [first_step, second_step, third_step, fourth_step]"
   ]
  },
  {
   "cell_type": "code",
   "execution_count": 13,
   "metadata": {},
   "outputs": [
    {
     "data": {
      "text/plain": [
       "0"
      ]
     },
     "execution_count": 13,
     "metadata": {},
     "output_type": "execute_result"
    }
   ],
   "source": [
    "df.query('event_name == \"registration_screen\"').count()[0]"
   ]
  },
  {
   "cell_type": "code",
   "execution_count": 16,
   "metadata": {},
   "outputs": [
    {
     "name": "stdout",
     "output_type": "stream",
     "text": [
      "[['registration_screen']]\n",
      "[['registration_screen'], ['in_app_communication', 'by_phone_communication']]\n",
      "[['registration_screen'], ['in_app_communication', 'by_phone_communication'], ['create_choos_communication_type']]\n"
     ]
    }
   ],
   "source": [
    "list_checking = []\n",
    "\n",
    "\n",
    "for i in steps:\n",
    "    if len(i) > 0:\n",
    "        list_checking.append(i)\n",
    "        print(df.query('event_name in @list_checking').count()[0])\n",
    "        print(list_checking)"
   ]
  },
  {
   "cell_type": "code",
   "execution_count": 155,
   "metadata": {},
   "outputs": [],
   "source": [
    "#tra = df.groupby('appmetrica_device_id')['event_name'].apply(list).to_frame().reset_index()"
   ]
  },
  {
   "cell_type": "code",
   "execution_count": 156,
   "metadata": {},
   "outputs": [],
   "source": [
    "#['registration_screen'][0] in tra.iloc[0]['event_name']"
   ]
  },
  {
   "cell_type": "code",
   "execution_count": 157,
   "metadata": {},
   "outputs": [],
   "source": [
    "# list_checking = []\n",
    "\n",
    "\n",
    "# for i in steps:\n",
    "#     new_df = pd.DataFrame()\n",
    "#     if len(i) > 0:\n",
    "#         list_checking.append(i)\n",
    "#         print(list_checking)\n",
    "#         # if len(list_checking) == 1:\n",
    "#         #     print(tra[list_checking[0] in tra.event_name].shape[0])"
   ]
  }
 ],
 "metadata": {
  "interpreter": {
   "hash": "aee8b7b246df8f9039afb4144a1f6fd8d2ca17a180786b69acc140d282b71a49"
  },
  "kernelspec": {
   "display_name": "Python 3.10.4 64-bit",
   "language": "python",
   "name": "python3"
  },
  "language_info": {
   "codemirror_mode": {
    "name": "ipython",
    "version": 3
   },
   "file_extension": ".py",
   "mimetype": "text/x-python",
   "name": "python",
   "nbconvert_exporter": "python",
   "pygments_lexer": "ipython3",
   "version": "3.10.4"
  },
  "orig_nbformat": 4
 },
 "nbformat": 4,
 "nbformat_minor": 2
}
