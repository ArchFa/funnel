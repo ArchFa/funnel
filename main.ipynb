{
 "cells": [
  {
   "cell_type": "code",
   "execution_count": 4,
   "metadata": {},
   "outputs": [],
   "source": [
    "import streamlit as st\n",
    "from collections import Counter\n",
    "from PIL import Image\n",
    "import numpy as np\n",
    "import pandas as pd\n",
    "import json\n",
    "import requests as r\n",
    "import time\n",
    "from datetime import datetime"
   ]
  },
  {
   "cell_type": "code",
   "execution_count": 11,
   "metadata": {},
   "outputs": [],
   "source": [
    "# выбор даты начала\n",
    "\n",
    "start_day = st.date_input(\n",
    "     \"Дата начала\",)\n",
    "st.write('Воронка с', start_day, 'числа')"
   ]
  },
  {
   "cell_type": "code",
   "execution_count": 13,
   "metadata": {},
   "outputs": [],
   "source": [
    "# выбор даты конца\n",
    "\n",
    "end_day = st.date_input(\n",
    "     \"Дата конца\",)\n",
    "st.write('Воронка до', end_day, 'числа')"
   ]
  },
  {
   "cell_type": "code",
   "execution_count": 1,
   "metadata": {},
   "outputs": [],
   "source": [
    "# загрузка событий из AppMetrica\n",
    "\n",
    "# but = st.button(\"Загрузить данные\")\n",
    "\n",
    "# if but:\n",
    "#     while True:\n",
    "#         header={\n",
    "#             'Content-Type': 'application/x-yametrika+json',\n",
    "#             'Authorization': 'OAuth AQAEA7qjKZXKAAfhX_j1dIIUR059lNONgVpbkWk'\n",
    "#         }\n",
    "#         metrika_url = f'https://api.appmetrica.yandex.ru/logs/v1/export/events.json?application_id=4065523&date_since={start_day}%2000%3A00%3A00&date_until={end_day}%2023%3A59%3A59&date_dimension=default&use_utf8_bom=true&fields=appmetrica_device_id%2Ccity%2Cevent_name'\n",
    "\n",
    "#         #st.spinner('Wait for it...')\n",
    "\n",
    "#         res = r.get(metrika_url, headers=header)\n",
    "#         if res.status_code == 200:\n",
    "#             items = json.loads(res.text.lstrip('\\ufeff'))\n",
    "#             df = pd.DataFrame.from_dict(items['data'])\n",
    "#             st.write(df)\n",
    "#             break\n",
    "#         time.sleep(300)"
   ]
  },
  {
   "cell_type": "code",
   "execution_count": 8,
   "metadata": {},
   "outputs": [],
   "source": [
    "df = pd.read_csv('events (3).csv')"
   ]
  },
  {
   "cell_type": "code",
   "execution_count": 9,
   "metadata": {},
   "outputs": [
    {
     "name": "stdout",
     "output_type": "stream",
     "text": [
      "<class 'pandas.core.frame.DataFrame'>\n",
      "RangeIndex: 11861 entries, 0 to 11860\n",
      "Data columns (total 3 columns):\n",
      " #   Column                Non-Null Count  Dtype \n",
      "---  ------                --------------  ----- \n",
      " 0   appmetrica_device_id  11861 non-null  uint64\n",
      " 1   event_name            11861 non-null  object\n",
      " 2   event_datetime        11861 non-null  object\n",
      "dtypes: object(2), uint64(1)\n",
      "memory usage: 278.1+ KB\n"
     ]
    }
   ],
   "source": [
    "df.info()"
   ]
  },
  {
   "cell_type": "code",
   "execution_count": null,
   "metadata": {},
   "outputs": [],
   "source": [
    "# selected_sn = col_multi.selectbox(\n",
    "#     \"Выберите конкурента\",\n",
    "#     options=pivot_sn_day.shop_network_name.unique().tolist(),\n",
    "#     index=0,\n",
    "# )"
   ]
  },
  {
   "cell_type": "code",
   "execution_count": null,
   "metadata": {},
   "outputs": [],
   "source": [
    "first_step = st.multiselect('Выберите событие для первого шага',df.event_name.unique().tolist())\n",
    "second_step = st.multiselect('Выберите событие для второго шага',df.event_name.unique().tolist())\n",
    "third_step = st.multiselect('Выберите событие для третьего шага',df.event_name.unique().tolist())\n",
    "fourth_step = st.multiselect('Выберите событие для четвертого шага',df.event_name.unique().tolist())\n",
    "fifth_step = st.multiselect('Выберите событие для пятого шага',df.event_name.unique().tolist())\n",
    "sixth_step = st.multiselect('Выберите событие для шестого шага',df.event_name.unique().tolist())\n",
    "seventh_step = st.multiselect('Выберите событие для седьмого шага',df.event_name.unique().tolist())\n"
   ]
  }
 ],
 "metadata": {
  "interpreter": {
   "hash": "aee8b7b246df8f9039afb4144a1f6fd8d2ca17a180786b69acc140d282b71a49"
  },
  "kernelspec": {
   "display_name": "Python 3.10.4 64-bit",
   "language": "python",
   "name": "python3"
  },
  "language_info": {
   "codemirror_mode": {
    "name": "ipython",
    "version": 3
   },
   "file_extension": ".py",
   "mimetype": "text/x-python",
   "name": "python",
   "nbconvert_exporter": "python",
   "pygments_lexer": "ipython3",
   "version": "3.10.4"
  },
  "orig_nbformat": 4
 },
 "nbformat": 4,
 "nbformat_minor": 2
}
